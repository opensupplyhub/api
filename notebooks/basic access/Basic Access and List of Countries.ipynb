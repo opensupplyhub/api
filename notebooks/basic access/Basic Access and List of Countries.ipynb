{
 "cells": [
  {
   "cell_type": "markdown",
   "id": "9b726bb7-8114-49e7-847d-cf54a9c373b9",
   "metadata": {},
   "source": [
    "# Basic Access\n",
    "\n",
    "<center>Copyright (c) 2022 Open Apparel Registry</center>\n",
    "\n",
    "This notebook demonstrates a very simple way of accessing the [opensupplyhub API](https://opensupplyhub.org/api/docs) programmatically. You will need python 3.8 upwards, and need to have installed `requests`. This should be part of most installations, else install it using\n",
    "\n",
    "```bash\n",
    "pip install requests\n",
    "```\n",
    "\n",
    "As a matter of convenience, this notebook will issue this command, too."
   ]
  },
  {
   "cell_type": "code",
   "execution_count": 17,
   "id": "1efcc177-544a-416e-bc62-a11858886a6c",
   "metadata": {},
   "outputs": [],
   "source": [
    "try:\n",
    "    import requests\n",
    "except:\n",
    "    !pip install requests\n",
    "    import requests\n",
    "import urllib    \n",
    "try:\n",
    "    import ipywidgets\n",
    "except:\n",
    "    !pip install ipywidgets\n",
    "from ipywidgets import Dropdown, Text, VBox, Layout\n",
    "    \n",
    "try:\n",
    "    import IPython\n",
    "except:\n",
    "    !pip install IPython\n",
    "from IPython.display import display\n",
    "import json"
   ]
  },
  {
   "cell_type": "markdown",
   "id": "e9d52343-be03-4f8b-9798-ad20fede1283",
   "metadata": {},
   "source": [
    "## Get Access Token\n",
    "\n",
    "As best practise, never, ever add you access token(s) or credentials in source files. We will show you alternate ways of securely storing credentials when using jupyter notebooks. For now, to get started, we use interactive jupyter widgets."
   ]
  },
  {
   "cell_type": "code",
   "execution_count": 19,
   "id": "0260774b-badd-4f78-a12b-7a9e0680f74b",
   "metadata": {},
   "outputs": [
    {
     "data": {
      "application/vnd.jupyter.widget-view+json": {
       "model_id": "dd89016973df4cfc8f13d0f6f0322a46",
       "version_major": 2,
       "version_minor": 0
      },
      "text/plain": [
       "VBox(children=(Dropdown(description='Select dev/prod', layout=Layout(width='30%'), options=('staging.openappar…"
      ]
     },
     "metadata": {},
     "output_type": "display_data"
    }
   ],
   "source": [
    "endpoint = [\"staging.openapparel.org\",\"openapparel.org\",\"9f692df0338dcbc9848646c6.openapparel.org\"]\n",
    "style = {'description_width': 'initial'}\n",
    "wEP = Dropdown(description=\"Select dev/prod\",options=endpoint,layout=Layout(width='30%'),style=style)\n",
    "wToken = Text(description=\"API Token\",value=\"paste_here\",layout=Layout(width='30%'),style=style)\n",
    "display(VBox([wEP,wToken]))"
   ]
  },
  {
   "cell_type": "markdown",
   "id": "067c872f-7f1c-47a5-b54f-d2523bcd7463",
   "metadata": {},
   "source": [
    "## Call the API\n",
    "\n",
    "We use both `urllib` and `requests` to perform the same function --- calling the API and looking at the return value.\n",
    "\n",
    "### Method 1: urllib"
   ]
  },
  {
   "cell_type": "code",
   "execution_count": 45,
   "id": "af0dfc7b-535c-41c9-a414-f42e97a1d98c",
   "metadata": {},
   "outputs": [
    {
     "name": "stdout",
     "output_type": "stream",
     "text": [
      "[['AF', 'Afghanistan'], ['AX', 'Åland Islands'], ['AL', 'Albania'], '...', ['YE', 'Yemen'], ['ZM', 'Zambia'], ['ZW', 'Zimbabwe']]\n",
      "Found 250 countries\n"
     ]
    }
   ],
   "source": [
    "header = {\n",
    "    \"accept\": \"application/json\",\n",
    "    \"Authorization\": f\"Token {wToken.value}\"\n",
    "}\n",
    "\n",
    "request = urllib.request.Request(f\"https://{wEP.value}/api/countries\",headers=header,method=\"GET\")\n",
    "try:\n",
    "    response = urllib.request.urlopen(request)\n",
    "    countries = json.loads(response.read())\n",
    "    print(countries[:3]+[\"...\"]+countries[-3:])\n",
    "    print(f\"Found {len(countries)} countries\")\n",
    "    \n",
    "except urllib.error.HTTPError as e:\n",
    "    print(f\"Error code {e.code}, {e.read().decode('ascii')}\") \n",
    " "
   ]
  },
  {
   "cell_type": "markdown",
   "id": "1063590a-8239-4916-aa15-6ee90178977c",
   "metadata": {},
   "source": [
    "### Method 2: requests"
   ]
  },
  {
   "cell_type": "code",
   "execution_count": 29,
   "id": "909e246a-90fd-4dbe-a9aa-099aed9b67eb",
   "metadata": {},
   "outputs": [
    {
     "name": "stdout",
     "output_type": "stream",
     "text": [
      "[['AF', 'Afghanistan'], ['AX', 'Åland Islands'], ['AL', 'Albania'], '...', ['YE', 'Yemen'], ['ZM', 'Zambia'], ['ZW', 'Zimbabwe']]\n",
      "Found 250 countries\n"
     ]
    }
   ],
   "source": [
    "header = {\n",
    "    \"accept\": \"application/json\",\n",
    "    \"Authorization\": f\"Token {wToken.value}\"\n",
    "}\n",
    "\n",
    "r = requests.get(f\"https://{wEP.value}/api/countries\",headers=header)\n",
    "if r.ok:\n",
    "    countries = json.loads(r.text)\n",
    "    print(countries[:3]+[\"...\"]+countries[-3:])\n",
    "    print(f\"Found {len(countries)} countries\")\n",
    "else:\n",
    "    print(f\"Error code {r.status_code}, most likely the Token is invalid\")"
   ]
  },
  {
   "cell_type": "markdown",
   "id": "6214b1dd-6d2b-4646-a25e-cd3f9382c905",
   "metadata": {},
   "source": [
    "## What to do next\n",
    "\n",
    "The result received has been parsed using the `json` library. It is a \"list of lists\", in other words, rows of entries which contain an [ISO 3166-2 country code](https://en.wikipedia.org/wiki/ISO_3166-1_alpha-2), and an [ISO3166 country name](https://en.wikipedia.org/wiki/ISO_3166-1)."
   ]
  },
  {
   "cell_type": "code",
   "execution_count": 46,
   "id": "e453f72f-bb20-4710-a714-2c80ed88bcde",
   "metadata": {},
   "outputs": [
    {
     "data": {
      "text/plain": [
       "[['AF', 'Afghanistan'],\n",
       " ['AX', 'Åland Islands'],\n",
       " ['AL', 'Albania'],\n",
       " ['DZ', 'Algeria'],\n",
       " ['AS', 'American Samoa']]"
      ]
     },
     "execution_count": 46,
     "metadata": {},
     "output_type": "execute_result"
    }
   ],
   "source": [
    "countries[:5]"
   ]
  },
  {
   "cell_type": "markdown",
   "id": "eba4e397-2281-4855-a7d8-bb2940ef288d",
   "metadata": {},
   "source": [
    "To make use of this, we strongly recommend python's `pandas` package and its `dataframes`."
   ]
  },
  {
   "cell_type": "code",
   "execution_count": 47,
   "id": "2c37fb2d-ebc9-4dab-bc34-9d6360e0cf30",
   "metadata": {},
   "outputs": [],
   "source": [
    "try:\n",
    "    import pandas as pd\n",
    "except:\n",
    "    !pip install pandas\n",
    "    import pandas as pd"
   ]
  },
  {
   "cell_type": "code",
   "execution_count": 49,
   "id": "e026cdf0-ca66-4248-8209-3f96bdd73922",
   "metadata": {},
   "outputs": [
    {
     "data": {
      "text/html": [
       "<div>\n",
       "<style scoped>\n",
       "    .dataframe tbody tr th:only-of-type {\n",
       "        vertical-align: middle;\n",
       "    }\n",
       "\n",
       "    .dataframe tbody tr th {\n",
       "        vertical-align: top;\n",
       "    }\n",
       "\n",
       "    .dataframe thead th {\n",
       "        text-align: right;\n",
       "    }\n",
       "</style>\n",
       "<table border=\"1\" class=\"dataframe\">\n",
       "  <thead>\n",
       "    <tr style=\"text-align: right;\">\n",
       "      <th></th>\n",
       "      <th>iso3166_2</th>\n",
       "      <th>country_name</th>\n",
       "    </tr>\n",
       "  </thead>\n",
       "  <tbody>\n",
       "    <tr>\n",
       "      <th>0</th>\n",
       "      <td>AF</td>\n",
       "      <td>Afghanistan</td>\n",
       "    </tr>\n",
       "    <tr>\n",
       "      <th>1</th>\n",
       "      <td>AX</td>\n",
       "      <td>Åland Islands</td>\n",
       "    </tr>\n",
       "    <tr>\n",
       "      <th>2</th>\n",
       "      <td>AL</td>\n",
       "      <td>Albania</td>\n",
       "    </tr>\n",
       "    <tr>\n",
       "      <th>3</th>\n",
       "      <td>DZ</td>\n",
       "      <td>Algeria</td>\n",
       "    </tr>\n",
       "    <tr>\n",
       "      <th>4</th>\n",
       "      <td>AS</td>\n",
       "      <td>American Samoa</td>\n",
       "    </tr>\n",
       "    <tr>\n",
       "      <th>...</th>\n",
       "      <td>...</td>\n",
       "      <td>...</td>\n",
       "    </tr>\n",
       "    <tr>\n",
       "      <th>245</th>\n",
       "      <td>WF</td>\n",
       "      <td>Wallis and Futuna</td>\n",
       "    </tr>\n",
       "    <tr>\n",
       "      <th>246</th>\n",
       "      <td>EH</td>\n",
       "      <td>Western Sahara</td>\n",
       "    </tr>\n",
       "    <tr>\n",
       "      <th>247</th>\n",
       "      <td>YE</td>\n",
       "      <td>Yemen</td>\n",
       "    </tr>\n",
       "    <tr>\n",
       "      <th>248</th>\n",
       "      <td>ZM</td>\n",
       "      <td>Zambia</td>\n",
       "    </tr>\n",
       "    <tr>\n",
       "      <th>249</th>\n",
       "      <td>ZW</td>\n",
       "      <td>Zimbabwe</td>\n",
       "    </tr>\n",
       "  </tbody>\n",
       "</table>\n",
       "<p>250 rows × 2 columns</p>\n",
       "</div>"
      ],
      "text/plain": [
       "    iso3166_2       country_name\n",
       "0          AF        Afghanistan\n",
       "1          AX      Åland Islands\n",
       "2          AL            Albania\n",
       "3          DZ            Algeria\n",
       "4          AS     American Samoa\n",
       "..        ...                ...\n",
       "245        WF  Wallis and Futuna\n",
       "246        EH     Western Sahara\n",
       "247        YE              Yemen\n",
       "248        ZM             Zambia\n",
       "249        ZW           Zimbabwe\n",
       "\n",
       "[250 rows x 2 columns]"
      ]
     },
     "execution_count": 49,
     "metadata": {},
     "output_type": "execute_result"
    }
   ],
   "source": [
    "df = pd.DataFrame(countries,columns=[\"iso3166_2\",\"country_name\"])\n",
    "df"
   ]
  },
  {
   "cell_type": "markdown",
   "id": "f62244b1-5511-4e38-bc3f-fb3048a9bbfd",
   "metadata": {},
   "source": [
    "The world of country names and country codes os quite complex. Also, you may have country names already which do not match the list given above. To handle this, we strongly recommend the package `pycountry`."
   ]
  },
  {
   "cell_type": "code",
   "execution_count": 50,
   "id": "6a15cee7-a5cf-420a-bb09-bed9c1e21219",
   "metadata": {},
   "outputs": [],
   "source": [
    "try:\n",
    "    import pycountry\n",
    "except:\n",
    "    !pip install pycountry\n",
    "    import pycountry"
   ]
  },
  {
   "cell_type": "code",
   "execution_count": 52,
   "id": "5e76ac17-2bdd-42c9-8d0a-6fb2fd5b9f9a",
   "metadata": {},
   "outputs": [
    {
     "data": {
      "text/plain": [
       "Country(alpha_2='DE', alpha_3='DEU', flag='🇩🇪', name='Germany', numeric='276', official_name='Federal Republic of Germany')"
      ]
     },
     "execution_count": 52,
     "metadata": {},
     "output_type": "execute_result"
    }
   ],
   "source": [
    "pycountry.countries.get(alpha_2=\"DE\")"
   ]
  },
  {
   "cell_type": "markdown",
   "id": "83fd1fb1-d481-4fd6-ba33-4a24645b0d9a",
   "metadata": {},
   "source": [
    "Lets augment our table with the information from `pycountry`"
   ]
  },
  {
   "cell_type": "code",
   "execution_count": 74,
   "id": "ae153345-3010-48a8-a147-a67caadbcdf7",
   "metadata": {},
   "outputs": [
    {
     "name": "stdout",
     "output_type": "stream",
     "text": [
      "No pycountry entry for Kosovo\n"
     ]
    }
   ],
   "source": [
    "df[\"alpha_3\"] = \"\"\n",
    "df[\"flag\"] = \"\"\n",
    "df[\"numeric\"] = \"-1\"\n",
    "df[\"official_name\"] = \"\"\n",
    "for i,row in df.iterrows():\n",
    "    country = pycountry.countries.get(alpha_2=row.iso3166_2)\n",
    "    if country:\n",
    "        df.at[i,\"alpha_3\"] = country.alpha_3\n",
    "        df.at[i,\"flag\"] = country.flag\n",
    "        df.at[i,\"numeric\"] = country.numeric\n",
    "        try:\n",
    "            df.at[i,\"official_name\"] = country.official_name\n",
    "        except:\n",
    "            pass\n",
    "    else:\n",
    "        print(f\"No pycountry entry for {row.country_name}\")"
   ]
  },
  {
   "cell_type": "code",
   "execution_count": 75,
   "id": "4d62003a-47ef-4c1e-82ab-a96333f5fa15",
   "metadata": {},
   "outputs": [
    {
     "data": {
      "text/html": [
       "<div>\n",
       "<style scoped>\n",
       "    .dataframe tbody tr th:only-of-type {\n",
       "        vertical-align: middle;\n",
       "    }\n",
       "\n",
       "    .dataframe tbody tr th {\n",
       "        vertical-align: top;\n",
       "    }\n",
       "\n",
       "    .dataframe thead th {\n",
       "        text-align: right;\n",
       "    }\n",
       "</style>\n",
       "<table border=\"1\" class=\"dataframe\">\n",
       "  <thead>\n",
       "    <tr style=\"text-align: right;\">\n",
       "      <th></th>\n",
       "      <th>iso3166_2</th>\n",
       "      <th>country_name</th>\n",
       "      <th>alpha_3</th>\n",
       "      <th>numeric</th>\n",
       "      <th>official_name</th>\n",
       "      <th>flag</th>\n",
       "    </tr>\n",
       "  </thead>\n",
       "  <tbody>\n",
       "    <tr>\n",
       "      <th>0</th>\n",
       "      <td>AF</td>\n",
       "      <td>Afghanistan</td>\n",
       "      <td>AFG</td>\n",
       "      <td>004</td>\n",
       "      <td>Islamic Republic of Afghanistan</td>\n",
       "      <td>🇦🇫</td>\n",
       "    </tr>\n",
       "    <tr>\n",
       "      <th>1</th>\n",
       "      <td>AX</td>\n",
       "      <td>Åland Islands</td>\n",
       "      <td>ALA</td>\n",
       "      <td>248</td>\n",
       "      <td></td>\n",
       "      <td>🇦🇽</td>\n",
       "    </tr>\n",
       "    <tr>\n",
       "      <th>2</th>\n",
       "      <td>AL</td>\n",
       "      <td>Albania</td>\n",
       "      <td>ALB</td>\n",
       "      <td>008</td>\n",
       "      <td>Republic of Albania</td>\n",
       "      <td>🇦🇱</td>\n",
       "    </tr>\n",
       "    <tr>\n",
       "      <th>3</th>\n",
       "      <td>DZ</td>\n",
       "      <td>Algeria</td>\n",
       "      <td>DZA</td>\n",
       "      <td>012</td>\n",
       "      <td>People's Democratic Republic of Algeria</td>\n",
       "      <td>🇩🇿</td>\n",
       "    </tr>\n",
       "    <tr>\n",
       "      <th>4</th>\n",
       "      <td>AS</td>\n",
       "      <td>American Samoa</td>\n",
       "      <td>ASM</td>\n",
       "      <td>016</td>\n",
       "      <td></td>\n",
       "      <td>🇦🇸</td>\n",
       "    </tr>\n",
       "    <tr>\n",
       "      <th>...</th>\n",
       "      <td>...</td>\n",
       "      <td>...</td>\n",
       "      <td>...</td>\n",
       "      <td>...</td>\n",
       "      <td>...</td>\n",
       "      <td>...</td>\n",
       "    </tr>\n",
       "    <tr>\n",
       "      <th>245</th>\n",
       "      <td>WF</td>\n",
       "      <td>Wallis and Futuna</td>\n",
       "      <td>WLF</td>\n",
       "      <td>876</td>\n",
       "      <td></td>\n",
       "      <td>🇼🇫</td>\n",
       "    </tr>\n",
       "    <tr>\n",
       "      <th>246</th>\n",
       "      <td>EH</td>\n",
       "      <td>Western Sahara</td>\n",
       "      <td>ESH</td>\n",
       "      <td>732</td>\n",
       "      <td></td>\n",
       "      <td>🇪🇭</td>\n",
       "    </tr>\n",
       "    <tr>\n",
       "      <th>247</th>\n",
       "      <td>YE</td>\n",
       "      <td>Yemen</td>\n",
       "      <td>YEM</td>\n",
       "      <td>887</td>\n",
       "      <td>Republic of Yemen</td>\n",
       "      <td>🇾🇪</td>\n",
       "    </tr>\n",
       "    <tr>\n",
       "      <th>248</th>\n",
       "      <td>ZM</td>\n",
       "      <td>Zambia</td>\n",
       "      <td>ZMB</td>\n",
       "      <td>894</td>\n",
       "      <td>Republic of Zambia</td>\n",
       "      <td>🇿🇲</td>\n",
       "    </tr>\n",
       "    <tr>\n",
       "      <th>249</th>\n",
       "      <td>ZW</td>\n",
       "      <td>Zimbabwe</td>\n",
       "      <td>ZWE</td>\n",
       "      <td>716</td>\n",
       "      <td>Republic of Zimbabwe</td>\n",
       "      <td>🇿🇼</td>\n",
       "    </tr>\n",
       "  </tbody>\n",
       "</table>\n",
       "<p>250 rows × 6 columns</p>\n",
       "</div>"
      ],
      "text/plain": [
       "    iso3166_2       country_name alpha_3 numeric  \\\n",
       "0          AF        Afghanistan     AFG     004   \n",
       "1          AX      Åland Islands     ALA     248   \n",
       "2          AL            Albania     ALB     008   \n",
       "3          DZ            Algeria     DZA     012   \n",
       "4          AS     American Samoa     ASM     016   \n",
       "..        ...                ...     ...     ...   \n",
       "245        WF  Wallis and Futuna     WLF     876   \n",
       "246        EH     Western Sahara     ESH     732   \n",
       "247        YE              Yemen     YEM     887   \n",
       "248        ZM             Zambia     ZMB     894   \n",
       "249        ZW           Zimbabwe     ZWE     716   \n",
       "\n",
       "                               official_name flag  \n",
       "0            Islamic Republic of Afghanistan   🇦🇫  \n",
       "1                                              🇦🇽  \n",
       "2                        Republic of Albania   🇦🇱  \n",
       "3    People's Democratic Republic of Algeria   🇩🇿  \n",
       "4                                              🇦🇸  \n",
       "..                                       ...  ...  \n",
       "245                                            🇼🇫  \n",
       "246                                            🇪🇭  \n",
       "247                        Republic of Yemen   🇾🇪  \n",
       "248                       Republic of Zambia   🇿🇲  \n",
       "249                     Republic of Zimbabwe   🇿🇼  \n",
       "\n",
       "[250 rows x 6 columns]"
      ]
     },
     "execution_count": 75,
     "metadata": {},
     "output_type": "execute_result"
    }
   ],
   "source": [
    "df"
   ]
  },
  {
   "cell_type": "markdown",
   "id": "6ebc1e3e-8055-403a-bbdd-fac29bdc3881",
   "metadata": {},
   "source": [
    "Lets remove the flag entry and convert the numeric column to actually be numeric. Then we save the file as both csv, and Excel."
   ]
  },
  {
   "cell_type": "code",
   "execution_count": 76,
   "id": "1f367c7a-5968-4cee-92df-ca737699ffff",
   "metadata": {},
   "outputs": [
    {
     "data": {
      "text/html": [
       "<div>\n",
       "<style scoped>\n",
       "    .dataframe tbody tr th:only-of-type {\n",
       "        vertical-align: middle;\n",
       "    }\n",
       "\n",
       "    .dataframe tbody tr th {\n",
       "        vertical-align: top;\n",
       "    }\n",
       "\n",
       "    .dataframe thead th {\n",
       "        text-align: right;\n",
       "    }\n",
       "</style>\n",
       "<table border=\"1\" class=\"dataframe\">\n",
       "  <thead>\n",
       "    <tr style=\"text-align: right;\">\n",
       "      <th></th>\n",
       "      <th>iso3166_2</th>\n",
       "      <th>country_name</th>\n",
       "      <th>alpha_3</th>\n",
       "      <th>numeric</th>\n",
       "      <th>official_name</th>\n",
       "    </tr>\n",
       "  </thead>\n",
       "  <tbody>\n",
       "    <tr>\n",
       "      <th>0</th>\n",
       "      <td>AF</td>\n",
       "      <td>Afghanistan</td>\n",
       "      <td>AFG</td>\n",
       "      <td>4</td>\n",
       "      <td>Islamic Republic of Afghanistan</td>\n",
       "    </tr>\n",
       "    <tr>\n",
       "      <th>1</th>\n",
       "      <td>AX</td>\n",
       "      <td>Åland Islands</td>\n",
       "      <td>ALA</td>\n",
       "      <td>248</td>\n",
       "      <td></td>\n",
       "    </tr>\n",
       "    <tr>\n",
       "      <th>2</th>\n",
       "      <td>AL</td>\n",
       "      <td>Albania</td>\n",
       "      <td>ALB</td>\n",
       "      <td>8</td>\n",
       "      <td>Republic of Albania</td>\n",
       "    </tr>\n",
       "    <tr>\n",
       "      <th>3</th>\n",
       "      <td>DZ</td>\n",
       "      <td>Algeria</td>\n",
       "      <td>DZA</td>\n",
       "      <td>12</td>\n",
       "      <td>People's Democratic Republic of Algeria</td>\n",
       "    </tr>\n",
       "    <tr>\n",
       "      <th>4</th>\n",
       "      <td>AS</td>\n",
       "      <td>American Samoa</td>\n",
       "      <td>ASM</td>\n",
       "      <td>16</td>\n",
       "      <td></td>\n",
       "    </tr>\n",
       "    <tr>\n",
       "      <th>...</th>\n",
       "      <td>...</td>\n",
       "      <td>...</td>\n",
       "      <td>...</td>\n",
       "      <td>...</td>\n",
       "      <td>...</td>\n",
       "    </tr>\n",
       "    <tr>\n",
       "      <th>245</th>\n",
       "      <td>WF</td>\n",
       "      <td>Wallis and Futuna</td>\n",
       "      <td>WLF</td>\n",
       "      <td>876</td>\n",
       "      <td></td>\n",
       "    </tr>\n",
       "    <tr>\n",
       "      <th>246</th>\n",
       "      <td>EH</td>\n",
       "      <td>Western Sahara</td>\n",
       "      <td>ESH</td>\n",
       "      <td>732</td>\n",
       "      <td></td>\n",
       "    </tr>\n",
       "    <tr>\n",
       "      <th>247</th>\n",
       "      <td>YE</td>\n",
       "      <td>Yemen</td>\n",
       "      <td>YEM</td>\n",
       "      <td>887</td>\n",
       "      <td>Republic of Yemen</td>\n",
       "    </tr>\n",
       "    <tr>\n",
       "      <th>248</th>\n",
       "      <td>ZM</td>\n",
       "      <td>Zambia</td>\n",
       "      <td>ZMB</td>\n",
       "      <td>894</td>\n",
       "      <td>Republic of Zambia</td>\n",
       "    </tr>\n",
       "    <tr>\n",
       "      <th>249</th>\n",
       "      <td>ZW</td>\n",
       "      <td>Zimbabwe</td>\n",
       "      <td>ZWE</td>\n",
       "      <td>716</td>\n",
       "      <td>Republic of Zimbabwe</td>\n",
       "    </tr>\n",
       "  </tbody>\n",
       "</table>\n",
       "<p>250 rows × 5 columns</p>\n",
       "</div>"
      ],
      "text/plain": [
       "    iso3166_2       country_name alpha_3  numeric  \\\n",
       "0          AF        Afghanistan     AFG        4   \n",
       "1          AX      Åland Islands     ALA      248   \n",
       "2          AL            Albania     ALB        8   \n",
       "3          DZ            Algeria     DZA       12   \n",
       "4          AS     American Samoa     ASM       16   \n",
       "..        ...                ...     ...      ...   \n",
       "245        WF  Wallis and Futuna     WLF      876   \n",
       "246        EH     Western Sahara     ESH      732   \n",
       "247        YE              Yemen     YEM      887   \n",
       "248        ZM             Zambia     ZMB      894   \n",
       "249        ZW           Zimbabwe     ZWE      716   \n",
       "\n",
       "                               official_name  \n",
       "0            Islamic Republic of Afghanistan  \n",
       "1                                             \n",
       "2                        Republic of Albania  \n",
       "3    People's Democratic Republic of Algeria  \n",
       "4                                             \n",
       "..                                       ...  \n",
       "245                                           \n",
       "246                                           \n",
       "247                        Republic of Yemen  \n",
       "248                       Republic of Zambia  \n",
       "249                     Republic of Zimbabwe  \n",
       "\n",
       "[250 rows x 5 columns]"
      ]
     },
     "execution_count": 76,
     "metadata": {},
     "output_type": "execute_result"
    }
   ],
   "source": [
    "del df[\"flag\"]\n",
    "df.numeric = df.numeric.astype(int)\n",
    "df"
   ]
  },
  {
   "cell_type": "code",
   "execution_count": 77,
   "id": "c7ee90d3-f238-4a4d-bdb3-2279ef2d05e1",
   "metadata": {},
   "outputs": [],
   "source": [
    "df.to_excel(\"countries.xlsx\",index=False)"
   ]
  },
  {
   "cell_type": "code",
   "execution_count": 82,
   "id": "34a77754-b166-42df-adda-7e7c0402ef20",
   "metadata": {},
   "outputs": [],
   "source": [
    "df.to_csv(\"countries.csv\",index=False)"
   ]
  },
  {
   "cell_type": "markdown",
   "id": "73cf20cd-331b-42d9-bf0b-0a8748397837",
   "metadata": {},
   "source": [
    "Some countries (locales) may have different list separators than the english `,`. You can specify a different delimiter for such cases (even though doing Excel file format exports would be recommeneded). For example, Germany uses semicolons."
   ]
  },
  {
   "cell_type": "code",
   "execution_count": 81,
   "id": "e00c755e-3b17-4d3c-8bc6-f4d049becadc",
   "metadata": {},
   "outputs": [],
   "source": [
    "df.to_csv(\"countries_de.csv\",index=False, sep=\";\")"
   ]
  },
  {
   "cell_type": "code",
   "execution_count": null,
   "id": "bf528134-b00d-43e6-852e-49a9768777d3",
   "metadata": {},
   "outputs": [],
   "source": []
  }
 ],
 "metadata": {
  "kernelspec": {
   "display_name": "Open Apparel (3.10)",
   "language": "python",
   "name": "openapparel"
  },
  "language_info": {
   "codemirror_mode": {
    "name": "ipython",
    "version": 3
   },
   "file_extension": ".py",
   "mimetype": "text/x-python",
   "name": "python",
   "nbconvert_exporter": "python",
   "pygments_lexer": "ipython3",
   "version": "3.10.4"
  }
 },
 "nbformat": 4,
 "nbformat_minor": 5
}
